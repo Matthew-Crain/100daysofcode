{
  "nbformat": 4,
  "nbformat_minor": 0,
  "metadata": {
    "colab": {
      "provenance": [],
      "include_colab_link": true
    },
    "kernelspec": {
      "name": "python3",
      "display_name": "Python 3"
    }
  },
  "cells": [
    {
      "cell_type": "markdown",
      "metadata": {
        "id": "view-in-github",
        "colab_type": "text"
      },
      "source": [
        "<a href=\"https://colab.research.google.com/github/Matthew-Crain/100daysofcode/blob/main/Diabetes_Prediction.ipynb\" target=\"_parent\"><img src=\"https://colab.research.google.com/assets/colab-badge.svg\" alt=\"Open In Colab\"/></a>"
      ]
    },
    {
      "cell_type": "markdown",
      "metadata": {
        "id": "Snq4iq_JOB4T"
      },
      "source": [
        "# TASK 1 : Install Dependencies & Run Spark Session"
      ]
    },
    {
      "cell_type": "code",
      "metadata": {
        "id": "NpCRBcqtN5lH",
        "colab": {
          "base_uri": "https://localhost:8080/"
        },
        "outputId": "fa5e5a89-8fd6-461f-b806-63506a3faf95"
      },
      "source": [
        "#install pyspark\n",
        "#install pyspark\n",
        "! pip install pyspark"
      ],
      "execution_count": null,
      "outputs": [
        {
          "output_type": "stream",
          "name": "stdout",
          "text": [
            "Collecting pyspark\n",
            "  Downloading pyspark-3.5.0.tar.gz (316.9 MB)\n",
            "\u001b[2K     \u001b[90m━━━━━━━━━━━━━━━━━━━━━━━━━━━━━━━━━━━━━━━━\u001b[0m \u001b[32m316.9/316.9 MB\u001b[0m \u001b[31m3.7 MB/s\u001b[0m eta \u001b[36m0:00:00\u001b[0m\n",
            "\u001b[?25h  Preparing metadata (setup.py) ... \u001b[?25l\u001b[?25hdone\n",
            "Requirement already satisfied: py4j==0.10.9.7 in /usr/local/lib/python3.10/dist-packages (from pyspark) (0.10.9.7)\n",
            "Building wheels for collected packages: pyspark\n",
            "  Building wheel for pyspark (setup.py) ... \u001b[?25l\u001b[?25hdone\n",
            "  Created wheel for pyspark: filename=pyspark-3.5.0-py2.py3-none-any.whl size=317425345 sha256=1f631a91aed014b6ab2f7ef6e4c825449f52f2b8761b706141128fa53805b134\n",
            "  Stored in directory: /root/.cache/pip/wheels/41/4e/10/c2cf2467f71c678cfc8a6b9ac9241e5e44a01940da8fbb17fc\n",
            "Successfully built pyspark\n",
            "Installing collected packages: pyspark\n",
            "Successfully installed pyspark-3.5.0\n"
          ]
        }
      ]
    },
    {
      "cell_type": "code",
      "metadata": {
        "id": "GNZoOuDqOdxX"
      },
      "source": [
        "#create a sparksession\n",
        "#create a sparksession\n",
        "from pyspark.sql import SparkSession\n",
        "\n",
        "spark = SparkSession.builder.appName(\"spark\").getOrCreate()"
      ],
      "execution_count": null,
      "outputs": []
    },
    {
      "cell_type": "markdown",
      "metadata": {
        "id": "5sG3MLXlOews"
      },
      "source": [
        "# TASK 2: Clone & Explore dataset"
      ]
    },
    {
      "cell_type": "code",
      "metadata": {
        "id": "-Uh5H7_KOoSL",
        "colab": {
          "base_uri": "https://localhost:8080/"
        },
        "outputId": "af1ad526-7362-43c5-f9a7-9def55667a6c"
      },
      "source": [
        "#clone the diabetes dataset from the github repository\n",
        "! git clone https://github.com/education454/diabetes_dataset"
      ],
      "execution_count": null,
      "outputs": [
        {
          "output_type": "stream",
          "name": "stdout",
          "text": [
            "Cloning into 'diabetes_dataset'...\n",
            "remote: Enumerating objects: 6, done.\u001b[K\n",
            "remote: Counting objects: 100% (6/6), done.\u001b[K\n",
            "remote: Compressing objects: 100% (5/5), done.\u001b[K\n",
            "remote: Total 6 (delta 0), reused 0 (delta 0), pack-reused 0\u001b[K\n",
            "Receiving objects: 100% (6/6), 13.02 KiB | 1.86 MiB/s, done.\n"
          ]
        }
      ]
    },
    {
      "cell_type": "code",
      "metadata": {
        "id": "VcqwJRxVOutr",
        "colab": {
          "base_uri": "https://localhost:8080/"
        },
        "outputId": "3db60893-1111-4c8a-cb4c-b0dcb91ff307"
      },
      "source": [
        "#check if the dataset exists\n",
        "#check if the dataset exists\n",
        "! ls diabetes_dataset"
      ],
      "execution_count": null,
      "outputs": [
        {
          "output_type": "stream",
          "name": "stdout",
          "text": [
            "diabetes.csv  new_test.csv\n"
          ]
        }
      ]
    },
    {
      "cell_type": "code",
      "source": [
        "from google.colab import drive\n",
        "drive.mount('/content/drive')"
      ],
      "metadata": {
        "colab": {
          "base_uri": "https://localhost:8080/"
        },
        "id": "IESKMCHroP7Q",
        "outputId": "29fc325c-f375-4f57-a6da-f31e60de9022"
      },
      "execution_count": null,
      "outputs": [
        {
          "output_type": "stream",
          "name": "stdout",
          "text": [
            "Mounted at /content/drive\n"
          ]
        }
      ]
    },
    {
      "cell_type": "code",
      "metadata": {
        "id": "ST1rFFOlOu8s"
      },
      "source": [
        "#create spark dataframe\n",
        "#create spark dataframe\n",
        "df = spark.read.csv(\"/content/drive/MyDrive/diabetes_dataset/diabetes.csv\",header= True,inferSchema = True)"
      ],
      "execution_count": 13,
      "outputs": []
    },
    {
      "cell_type": "code",
      "metadata": {
        "id": "IiJm-pmROvKd",
        "colab": {
          "base_uri": "https://localhost:8080/"
        },
        "outputId": "f3668e3e-13df-4939-b22c-084f491d4afa"
      },
      "source": [
        "#display the dataframe\n",
        "df.show()\n"
      ],
      "execution_count": 25,
      "outputs": [
        {
          "output_type": "stream",
          "name": "stdout",
          "text": [
            "+-----------+-------+-------------+-------------+-------+----+------------------------+---+-------+\n",
            "|Pregnancies|Glucose|BloodPressure|SkinThickness|Insulin| BMI|DiabetesPedigreeFunction|Age|Outcome|\n",
            "+-----------+-------+-------------+-------------+-------+----+------------------------+---+-------+\n",
            "|          2|    138|           62|           35|      0|33.6|                   0.127| 47|      1|\n",
            "|          0|     84|           82|           31|    125|38.2|                   0.233| 23|      0|\n",
            "|          0|    145|            0|            0|      0|44.2|                    0.63| 31|      1|\n",
            "|          0|    135|           68|           42|    250|42.3|                   0.365| 24|      1|\n",
            "|          1|    139|           62|           41|    480|40.7|                   0.536| 21|      0|\n",
            "|          0|    173|           78|           32|    265|46.5|                   1.159| 58|      0|\n",
            "|          4|     99|           72|           17|      0|25.6|                   0.294| 28|      0|\n",
            "|          8|    194|           80|            0|      0|26.1|                   0.551| 67|      0|\n",
            "|          2|     83|           65|           28|     66|36.8|                   0.629| 24|      0|\n",
            "|          2|     89|           90|           30|      0|33.5|                   0.292| 42|      0|\n",
            "|          4|     99|           68|           38|      0|32.8|                   0.145| 33|      0|\n",
            "|          4|    125|           70|           18|    122|28.9|                   1.144| 45|      1|\n",
            "|          3|     80|            0|            0|      0| 0.0|                   0.174| 22|      0|\n",
            "|          6|    166|           74|            0|      0|26.6|                   0.304| 66|      0|\n",
            "|          5|    110|           68|            0|      0|26.0|                   0.292| 30|      0|\n",
            "|          2|     81|           72|           15|     76|30.1|                   0.547| 25|      0|\n",
            "|          7|    195|           70|           33|    145|25.1|                   0.163| 55|      1|\n",
            "|          6|    154|           74|           32|    193|29.3|                   0.839| 39|      0|\n",
            "|          2|    117|           90|           19|     71|25.2|                   0.313| 21|      0|\n",
            "|          3|     84|           72|           32|      0|37.2|                   0.267| 28|      0|\n",
            "+-----------+-------+-------------+-------------+-------+----+------------------------+---+-------+\n",
            "only showing top 20 rows\n",
            "\n"
          ]
        }
      ]
    },
    {
      "cell_type": "code",
      "metadata": {
        "id": "Ulqkuz8aOvV6",
        "colab": {
          "base_uri": "https://localhost:8080/"
        },
        "outputId": "1f9019e2-16c9-44fc-9313-536e1bdc314e"
      },
      "source": [
        "#print the schema\n",
        "df.printSchema()"
      ],
      "execution_count": 15,
      "outputs": [
        {
          "output_type": "stream",
          "name": "stdout",
          "text": [
            "root\n",
            " |-- Pregnancies: integer (nullable = true)\n",
            " |-- Glucose: integer (nullable = true)\n",
            " |-- BloodPressure: integer (nullable = true)\n",
            " |-- SkinThickness: integer (nullable = true)\n",
            " |-- Insulin: integer (nullable = true)\n",
            " |-- BMI: double (nullable = true)\n",
            " |-- DiabetesPedigreeFunction: double (nullable = true)\n",
            " |-- Age: integer (nullable = true)\n",
            " |-- Outcome: integer (nullable = true)\n",
            "\n"
          ]
        }
      ]
    },
    {
      "cell_type": "code",
      "metadata": {
        "id": "kpZlF2S2Ovgw",
        "colab": {
          "base_uri": "https://localhost:8080/"
        },
        "outputId": "1942208a-34a6-4be8-a413-695e80b9436b"
      },
      "source": [
        "#count the total no. of diabetic and non-diabetic class\n",
        "print((df.count(),len(df.columns)))\n",
        "df.groupBy('Outcome').count().show()"
      ],
      "execution_count": 18,
      "outputs": [
        {
          "output_type": "stream",
          "name": "stdout",
          "text": [
            "(2000, 9)\n",
            "+-------+-----+\n",
            "|Outcome|count|\n",
            "+-------+-----+\n",
            "|      1|  684|\n",
            "|      0| 1316|\n",
            "+-------+-----+\n",
            "\n"
          ]
        }
      ]
    },
    {
      "cell_type": "code",
      "metadata": {
        "id": "NewCNZEMOvtM",
        "colab": {
          "base_uri": "https://localhost:8080/"
        },
        "outputId": "246fb002-c366-43d2-c7f7-f162e3109b6a"
      },
      "source": [
        "#get the summary statistics\n",
        "df.describe().show()"
      ],
      "execution_count": 19,
      "outputs": [
        {
          "output_type": "stream",
          "name": "stdout",
          "text": [
            "+-------+-----------------+------------------+------------------+-----------------+-----------------+------------------+------------------------+------------------+------------------+\n",
            "|summary|      Pregnancies|           Glucose|     BloodPressure|    SkinThickness|          Insulin|               BMI|DiabetesPedigreeFunction|               Age|           Outcome|\n",
            "+-------+-----------------+------------------+------------------+-----------------+-----------------+------------------+------------------------+------------------+------------------+\n",
            "|  count|             2000|              2000|              2000|             2000|             2000|              2000|                    2000|              2000|              2000|\n",
            "|   mean|           3.7035|          121.1825|           69.1455|           20.935|           80.254|32.192999999999984|     0.47092999999999974|           33.0905|             0.342|\n",
            "| stddev|3.306063032730656|32.068635649902916|19.188314815604098|16.10324290992682|111.1805335457595| 8.149900701279762|      0.3235525586811429|11.786423106049496|0.4744982342297426|\n",
            "|    min|                0|                 0|                 0|                0|                0|               0.0|                   0.078|                21|                 0|\n",
            "|    max|               17|               199|               122|              110|              744|              80.6|                    2.42|                81|                 1|\n",
            "+-------+-----------------+------------------+------------------+-----------------+-----------------+------------------+------------------------+------------------+------------------+\n",
            "\n"
          ]
        }
      ]
    },
    {
      "cell_type": "markdown",
      "metadata": {
        "id": "gZerPOR-OyjQ"
      },
      "source": [
        "# TASK 3: Data Cleaning & Preparation"
      ]
    },
    {
      "cell_type": "code",
      "metadata": {
        "id": "Q-KkJvV_PFFU",
        "colab": {
          "base_uri": "https://localhost:8080/"
        },
        "outputId": "c3bb256d-9353-42f7-c8d7-65d3cea580aa"
      },
      "source": [
        "#check for null values\n",
        "for col in df.columns:\n",
        "  print(col+\":\",df[df[col].isNull()].count())"
      ],
      "execution_count": 31,
      "outputs": [
        {
          "output_type": "stream",
          "name": "stdout",
          "text": [
            "Pregnancies: 0\n",
            "Glucose: 0\n",
            "BloodPressure: 0\n",
            "SkinThickness: 0\n",
            "Insulin: 0\n",
            "BMI: 0\n",
            "DiabetesPedigreeFunction: 0\n",
            "Age: 0\n",
            "Outcome: 0\n"
          ]
        }
      ]
    },
    {
      "cell_type": "code",
      "metadata": {
        "id": "ZJsbgwZMPFQC"
      },
      "source": [
        "#look for the unnecessary values present\n",
        "def count_zeros():\n",
        "    columns_list = ['Glucose','BloodPressure','SkinThickness','Insulin','BMI']\n",
        "    for i in columns_list:\n",
        "        print(i+':',df[df[i]==0].count())"
      ],
      "execution_count": 32,
      "outputs": []
    },
    {
      "cell_type": "code",
      "metadata": {
        "id": "pcXTErb9PFbo",
        "colab": {
          "base_uri": "https://localhost:8080/"
        },
        "outputId": "ca357ef4-52a3-4e3d-a987-9a8eb0e6eb61"
      },
      "source": [
        "count_zeros()"
      ],
      "execution_count": 33,
      "outputs": [
        {
          "output_type": "stream",
          "name": "stdout",
          "text": [
            "Glucose: 13\n",
            "BloodPressure: 90\n",
            "SkinThickness: 573\n",
            "Insulin: 956\n",
            "BMI: 28\n"
          ]
        }
      ]
    },
    {
      "cell_type": "code",
      "metadata": {
        "id": "VXemdtaPPFmA",
        "colab": {
          "base_uri": "https://localhost:8080/"
        },
        "outputId": "7dabce06-890b-424a-8a55-54e69288187e"
      },
      "source": [
        "#calculate and replace the unnecessary values by the mean value\n",
        "from pyspark.sql.functions import *\n",
        "for i in df.columns[1:6]:\n",
        "    data = df.agg({i:'mean'}).first()[0]\n",
        "    print('mean value for {} is {}'.format(i,int(data)))\n",
        "df = df.withColumn(i,when(df[i]==0,int(data)).otherwise(df[i]))"
      ],
      "execution_count": 44,
      "outputs": [
        {
          "output_type": "stream",
          "name": "stdout",
          "text": [
            "mean value for Glucose is 121\n",
            "mean value for BloodPressure is 69\n",
            "mean value for SkinThickness is 20\n",
            "mean value for Insulin is 80\n",
            "mean value for BMI is 32\n"
          ]
        }
      ]
    },
    {
      "cell_type": "code",
      "metadata": {
        "id": "C0bk0Ps_PFwk",
        "colab": {
          "base_uri": "https://localhost:8080/"
        },
        "outputId": "86a41370-951d-4f3d-f544-0aa4d3094be3"
      },
      "source": [
        "#display the dataframe\n",
        "df.show()"
      ],
      "execution_count": 45,
      "outputs": [
        {
          "output_type": "stream",
          "name": "stdout",
          "text": [
            "+-----------+-------+-------------+-------------+-------+----+------------------------+---+-------+\n",
            "|Pregnancies|Glucose|BloodPressure|SkinThickness|Insulin| BMI|DiabetesPedigreeFunction|Age|Outcome|\n",
            "+-----------+-------+-------------+-------------+-------+----+------------------------+---+-------+\n",
            "|          2|    138|           62|           35|      0|33.6|                   0.127| 47|      1|\n",
            "|          0|     84|           82|           31|    125|38.2|                   0.233| 23|      0|\n",
            "|          0|    145|            0|            0|      0|44.2|                    0.63| 31|      1|\n",
            "|          0|    135|           68|           42|    250|42.3|                   0.365| 24|      1|\n",
            "|          1|    139|           62|           41|    480|40.7|                   0.536| 21|      0|\n",
            "|          0|    173|           78|           32|    265|46.5|                   1.159| 58|      0|\n",
            "|          4|     99|           72|           17|      0|25.6|                   0.294| 28|      0|\n",
            "|          8|    194|           80|            0|      0|26.1|                   0.551| 67|      0|\n",
            "|          2|     83|           65|           28|     66|36.8|                   0.629| 24|      0|\n",
            "|          2|     89|           90|           30|      0|33.5|                   0.292| 42|      0|\n",
            "|          4|     99|           68|           38|      0|32.8|                   0.145| 33|      0|\n",
            "|          4|    125|           70|           18|    122|28.9|                   1.144| 45|      1|\n",
            "|          3|     80|            0|            0|      0|32.0|                   0.174| 22|      0|\n",
            "|          6|    166|           74|            0|      0|26.6|                   0.304| 66|      0|\n",
            "|          5|    110|           68|            0|      0|26.0|                   0.292| 30|      0|\n",
            "|          2|     81|           72|           15|     76|30.1|                   0.547| 25|      0|\n",
            "|          7|    195|           70|           33|    145|25.1|                   0.163| 55|      1|\n",
            "|          6|    154|           74|           32|    193|29.3|                   0.839| 39|      0|\n",
            "|          2|    117|           90|           19|     71|25.2|                   0.313| 21|      0|\n",
            "|          3|     84|           72|           32|      0|37.2|                   0.267| 28|      0|\n",
            "+-----------+-------+-------------+-------------+-------+----+------------------------+---+-------+\n",
            "only showing top 20 rows\n",
            "\n"
          ]
        }
      ]
    },
    {
      "cell_type": "markdown",
      "metadata": {
        "id": "LOgSTdBpPs7G"
      },
      "source": [
        "# TASK 4: Correlation Analysis & Feature Selection"
      ]
    },
    {
      "cell_type": "code",
      "metadata": {
        "id": "7Eq6jdcFP_3C"
      },
      "source": [
        "#find the correlation among the set of input & output variables"
      ],
      "execution_count": null,
      "outputs": []
    },
    {
      "cell_type": "code",
      "metadata": {
        "id": "Fl7Edj-OQACn"
      },
      "source": [
        "#feature selection"
      ],
      "execution_count": null,
      "outputs": []
    },
    {
      "cell_type": "code",
      "metadata": {
        "id": "mJKrfqdaQAOy"
      },
      "source": [
        "#print the schema"
      ],
      "execution_count": null,
      "outputs": []
    },
    {
      "cell_type": "code",
      "metadata": {
        "id": "FURl7qESQAaQ"
      },
      "source": [
        "#display dataframe"
      ],
      "execution_count": null,
      "outputs": []
    },
    {
      "cell_type": "markdown",
      "metadata": {
        "id": "8fSjOdfyQA99"
      },
      "source": [
        "# TASK 5: Split Dataset & Build the Model"
      ]
    },
    {
      "cell_type": "code",
      "metadata": {
        "id": "F89--FiVQQJn"
      },
      "source": [
        "#create final data"
      ],
      "execution_count": null,
      "outputs": []
    },
    {
      "cell_type": "code",
      "metadata": {
        "id": "cKpm5912Qji_"
      },
      "source": [
        "#print schema of final data"
      ],
      "execution_count": null,
      "outputs": []
    },
    {
      "cell_type": "code",
      "metadata": {
        "id": "r_Nom7aZQjuN"
      },
      "source": [
        "#split the dataset ; build the model"
      ],
      "execution_count": null,
      "outputs": []
    },
    {
      "cell_type": "code",
      "metadata": {
        "id": "OljO2HcIQj7E"
      },
      "source": [
        "#summary of the model"
      ],
      "execution_count": null,
      "outputs": []
    },
    {
      "cell_type": "code",
      "metadata": {
        "id": "mhwAr2d_QkFx"
      },
      "source": [],
      "execution_count": null,
      "outputs": []
    },
    {
      "cell_type": "markdown",
      "metadata": {
        "id": "DfaD_vzfQkah"
      },
      "source": [
        "# TASK 6: Evaluate and Save the Model"
      ]
    },
    {
      "cell_type": "code",
      "metadata": {
        "id": "CHC5Erq7Q4QN"
      },
      "source": [],
      "execution_count": null,
      "outputs": []
    },
    {
      "cell_type": "code",
      "metadata": {
        "id": "UBltVqoNQ4cM"
      },
      "source": [],
      "execution_count": null,
      "outputs": []
    },
    {
      "cell_type": "code",
      "metadata": {
        "id": "A4BHCxCiQ4l-"
      },
      "source": [],
      "execution_count": null,
      "outputs": []
    },
    {
      "cell_type": "code",
      "metadata": {
        "id": "ERpRUFOHQ4x5"
      },
      "source": [
        "# save model"
      ],
      "execution_count": null,
      "outputs": []
    },
    {
      "cell_type": "code",
      "metadata": {
        "id": "4zSA9_KCQ47W"
      },
      "source": [
        "# load saved model back to the environment"
      ],
      "execution_count": null,
      "outputs": []
    },
    {
      "cell_type": "markdown",
      "metadata": {
        "id": "Iznukr-xRANo"
      },
      "source": [
        "# TASK 7: Prediction on New Data with the saved model"
      ]
    },
    {
      "cell_type": "code",
      "metadata": {
        "id": "MBq2hq27RdHB"
      },
      "source": [
        "#create a new spark dataframe"
      ],
      "execution_count": null,
      "outputs": []
    },
    {
      "cell_type": "code",
      "metadata": {
        "id": "co8K0NZsRdQB"
      },
      "source": [
        "#print the schema"
      ],
      "execution_count": null,
      "outputs": []
    },
    {
      "cell_type": "code",
      "metadata": {
        "id": "J7jtGf4lRdaz"
      },
      "source": [
        "#create an additional feature merged column"
      ],
      "execution_count": null,
      "outputs": []
    },
    {
      "cell_type": "code",
      "metadata": {
        "id": "kd1glzOnRdkq"
      },
      "source": [
        "#print the schema"
      ],
      "execution_count": null,
      "outputs": []
    },
    {
      "cell_type": "code",
      "metadata": {
        "id": "40Dck7K_Rdxh"
      },
      "source": [
        "#use model to make predictions"
      ],
      "execution_count": null,
      "outputs": []
    },
    {
      "cell_type": "code",
      "metadata": {
        "id": "AHpfS2SjRd7s"
      },
      "source": [
        "#display the predictions"
      ],
      "execution_count": null,
      "outputs": []
    }
  ]
}